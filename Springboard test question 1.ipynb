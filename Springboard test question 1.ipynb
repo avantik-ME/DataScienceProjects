{
 "cells": [
  {
   "cell_type": "code",
   "execution_count": 57,
   "metadata": {},
   "outputs": [],
   "source": [
    "import random\n",
    "import pandas as pd\n",
    "import numpy as np\n",
    "import seaborn as sns #Visualization"
   ]
  },
  {
   "cell_type": "code",
   "execution_count": 64,
   "metadata": {},
   "outputs": [],
   "source": [
    "STDIN = random.sample(range(1,100),5)"
   ]
  },
  {
   "cell_type": "code",
   "execution_count": 65,
   "metadata": {},
   "outputs": [
    {
     "name": "stdout",
     "output_type": "stream",
     "text": [
      "[94, 30, 17, 59, 95]\n"
     ]
    }
   ],
   "source": [
    "print(STDIN)"
   ]
  },
  {
   "cell_type": "code",
   "execution_count": 66,
   "metadata": {},
   "outputs": [
    {
     "data": {
      "text/plain": [
       "[47.0, 15.0, 8.5, 29.5, 47.5]"
      ]
     },
     "execution_count": 66,
     "metadata": {},
     "output_type": "execute_result"
    }
   ],
   "source": [
    "STDIN\n",
    "myinst = 2\n",
    "newlist = [x/myinst for x in STDIN]\n",
    "newlist"
   ]
  },
  {
   "cell_type": "code",
   "execution_count": 69,
   "metadata": {},
   "outputs": [
    {
     "name": "stdout",
     "output_type": "stream",
     "text": [
      "[17, 30, 59, 94, 95]\n",
      "the three highest integers are: 95 94 59\n"
     ]
    }
   ],
   "source": [
    "STDIN.sort()\n",
    "print(STDIN)\n",
    "print(\"the three highest integers are:\", STDIN[-1], STDIN[-2], STDIN[-3])"
   ]
  },
  {
   "cell_type": "code",
   "execution_count": 76,
   "metadata": {},
   "outputs": [
    {
     "ename": "TypeError",
     "evalue": "unsupported operand type(s) for /: 'list' and 'int'",
     "output_type": "error",
     "traceback": [
      "\u001b[0;31m---------------------------------------------------------------------------\u001b[0m",
      "\u001b[0;31mTypeError\u001b[0m                                 Traceback (most recent call last)",
      "\u001b[0;32m<ipython-input-76-396cff8fa4b3>\u001b[0m in \u001b[0;36m<module>\u001b[0;34m\u001b[0m\n\u001b[1;32m     10\u001b[0m \u001b[0;34m\u001b[0m\u001b[0m\n\u001b[1;32m     11\u001b[0m     \u001b[0;32melse\u001b[0m\u001b[0;34m:\u001b[0m\u001b[0;34m\u001b[0m\u001b[0;34m\u001b[0m\u001b[0m\n\u001b[0;32m---> 12\u001b[0;31m         \u001b[0me1\u001b[0m \u001b[0;34m=\u001b[0m \u001b[0mn\u001b[0m\u001b[0;34m/\u001b[0m\u001b[0;36m2\u001b[0m\u001b[0;34m\u001b[0m\u001b[0;34m\u001b[0m\u001b[0m\n\u001b[0m\u001b[1;32m     13\u001b[0m \u001b[0;34m\u001b[0m\u001b[0m\n\u001b[1;32m     14\u001b[0m     \u001b[0mSTDOUT\u001b[0m\u001b[0;34m.\u001b[0m\u001b[0mappend\u001b[0m\u001b[0;34m(\u001b[0m\u001b[0me1\u001b[0m\u001b[0;34m)\u001b[0m\u001b[0;34m\u001b[0m\u001b[0;34m\u001b[0m\u001b[0m\n",
      "\u001b[0;31mTypeError\u001b[0m: unsupported operand type(s) for /: 'list' and 'int'"
     ]
    }
   ],
   "source": [
    "for n in STDIN, i in range (len(STDIN)):\n",
    "    STDOUT=[]\n",
    "    e1 = 0\n",
    "    \n",
    "    if i == 12:\n",
    "       e1 = n\n",
    "    \n",
    "    elif i == 2:\n",
    "       e1 = n\n",
    "        \n",
    "    else: \n",
    "        e1 = n/2\n",
    "        \n",
    "    STDOUT.append(e1)\n",
    "    \n",
    "    print(STDOUT)\n",
    "    \n",
    "    "
   ]
  },
  {
   "cell_type": "code",
   "execution_count": 62,
   "metadata": {},
   "outputs": [],
   "source": [
    "def Nmaxelements(list1, N): \n",
    "    final_list = [] \n",
    "    half = []\n",
    "    \n",
    "    print (list1)\n",
    "    for i in range(0, N):  \n",
    "        max1 = 0\n",
    "        h1 = 0 \n",
    "       \n",
    "        for j in range(len(list1)):      \n",
    "            if list1[j] > max1: \n",
    "                max1 = list1[j]; \n",
    "                h1 = max1/2;\n",
    "            \n",
    "                  \n",
    "        list1.remove(max1); \n",
    "        final_list.append(max1);\n",
    "        half.append(h1)\n",
    "        \n",
    "        \n",
    "    print(final_list) \n",
    "    print(half)"
   ]
  },
  {
   "cell_type": "code",
   "execution_count": 63,
   "metadata": {},
   "outputs": [
    {
     "name": "stdout",
     "output_type": "stream",
     "text": [
      "[38, 64, 84, 43, 94]\n",
      "[94, 84, 64]\n",
      "[47.0, 42.0, 32.0]\n"
     ]
    }
   ],
   "source": [
    "list1=STDIN\n",
    "N = 3\n",
    "Nmaxelements(list1, N)"
   ]
  },
  {
   "cell_type": "code",
   "execution_count": null,
   "metadata": {},
   "outputs": [],
   "source": [
    "for k in STDIN:\n",
    "    list1 = STDIN\n",
    "    final_list = [] \n",
    "    half = []\n",
    "    \n",
    "    for i in range (0,3): \n",
    "        max1 = 0\n",
    "        h1 = 0 \n",
    "        \n",
    "        for j in range(len(list1)):      \n",
    "            if list1[j] > max1: \n",
    "                max1 = list1[j]; \n",
    "                h1 = max1/2;\n",
    "            \n",
    "                  \n",
    "        list1.remove(max1); \n",
    "        final_list.append(max1);\n",
    "        half.append(h1)\n",
    "        \n",
    "        \n",
    "    print(final_list) \n",
    "    print(half)\n",
    "    \n",
    "    if k == final_list\n",
    "       "
   ]
  },
  {
   "cell_type": "code",
   "execution_count": 85,
   "metadata": {},
   "outputs": [
    {
     "name": "stdout",
     "output_type": "stream",
     "text": [
      "Please input a string of numbers separated by space1 2 3 4 5\n",
      "['1', '2', '3', '4', '5']\n",
      "[1, 2, 3, 4, 5]\n",
      "[1, 2, 1.5, 2.0, 2.5]\n"
     ]
    }
   ],
   "source": [
    "import copy\n",
    "input_str = input('Please input a string of numbers separated by space')\n",
    "number_tokens = input_str.split(' ')\n",
    "print(number_tokens)\n",
    "numbers = [int(x) for x in number_tokens]\n",
    "numbers_copy = copy.deepcopy(numbers)  \n",
    "print (numbers)\n",
    "def get_top_three(numbers):\n",
    "    numbers.sort(reverse=True)\n",
    "    return numbers[:3]\n",
    "\n",
    "top_three = get_top_three (numbers)\n",
    "\n",
    "def get_half(topKnumbers):\n",
    "    new_original = dict()\n",
    "    for num in topKnumbers:\n",
    "        new_original[num] = num/2\n",
    "    return new_original\n",
    "half_dict = (get_half(top_three))\n",
    "\n",
    "def replace_original(numbers, replace):\n",
    "    for key, value in replace.items():\n",
    "        index = numbers.index(key)\n",
    "        numbers[index] = value\n",
    "    return numbers\n",
    "\n",
    "print(replace_original(numbers_copy, half_dict))"
   ]
  },
  {
   "cell_type": "code",
   "execution_count": null,
   "metadata": {},
   "outputs": [],
   "source": []
  }
 ],
 "metadata": {
  "kernelspec": {
   "display_name": "Python 3",
   "language": "python",
   "name": "python3"
  },
  "language_info": {
   "codemirror_mode": {
    "name": "ipython",
    "version": 3
   },
   "file_extension": ".py",
   "mimetype": "text/x-python",
   "name": "python",
   "nbconvert_exporter": "python",
   "pygments_lexer": "ipython3",
   "version": "3.7.6"
  }
 },
 "nbformat": 4,
 "nbformat_minor": 4
}
