{
 "cells": [
  {
   "cell_type": "code",
   "execution_count": 4,
   "metadata": {},
   "outputs": [
    {
     "name": "stdout",
     "output_type": "stream",
     "text": [
      "In the third grade Ali Scott, age 8, excelled at math\n",
      "In the third grade Ali Scott, age 8, excelled at math\n",
      "In the third grade Ali Scott, age 8, excelled at math.\n"
     ]
    }
   ],
   "source": [
    "fn = 'Ali'\n",
    "ln = 'Scott'\n",
    "age = '8'\n",
    "\n",
    "print('In the third grade {} {}, age {}, excelled at math'.format (fn, ln, age))\n",
    "print('In the third grade {0} {1}, age {2}, excelled at math'.format (fn, ln, age))\n",
    "#print('In the third grade {fn} {ln}, age {age}, excelled at math'.format (fn, ln, age))# may be from python2.7\n",
    "print(f'In the third grade {fn} {ln}, age {age}, excelled at math.')"
   ]
  },
  {
   "cell_type": "code",
   "execution_count": 5,
   "metadata": {},
   "outputs": [
    {
     "name": "stdout",
     "output_type": "stream",
     "text": [
      "Enter your first name: Xyzna\n",
      "my first name is Xyzna\n"
     ]
    }
   ],
   "source": [
    "f_name = input('Enter your first name: ')\n",
    "print(f'my first name is {f_name}')"
   ]
  },
  {
   "cell_type": "code",
   "execution_count": 6,
   "metadata": {},
   "outputs": [
    {
     "name": "stdout",
     "output_type": "stream",
     "text": [
      "\n"
     ]
    }
   ],
   "source": [
    "import sys\n",
    "f_name = sys.stdin.readline()\n",
    "print(f_name)"
   ]
  },
  {
   "cell_type": "code",
   "execution_count": 21,
   "metadata": {},
   "outputs": [
    {
     "name": "stdout",
     "output_type": "stream",
     "text": [
      "{\\rtf1\\ansi\\ansicpg1252\\cocoartf2513\n",
      "\n",
      "\\cocoatextscaling0\\cocoaplatform0{\\fonttbl\\f0\\fswiss\\fcharset0 Helvetica;}\n",
      "\n",
      "{\\colortbl;\\red255\\green255\\blue255;}\n",
      "\n",
      "{\\*\\expandedcolortbl;;}\n",
      "\n",
      "\\margl1440\\margr1440\\vieww10800\\viewh8400\\viewkind0\n",
      "\n",
      "\\pard\\tx720\\tx1433\\tx1440\\tx2160\\tx2880\\tx3600\\tx4320\\tx5040\\tx5760\\tx6480\\tx7200\\tx7920\\tx8640\\pardirnatural\\partightenfactor0\n",
      "\n",
      "\n",
      "\n",
      "\\f0\\fs24 \\cf0 Month            Nunmber of Books read\\\n",
      "\n",
      "Jan 20\t\t2\\\n",
      "\n",
      "Feb 20\t1\t\t\\\n",
      "\n",
      "Mar 20\t3\\\n",
      "\n",
      "Apr 20\t\t1\\\n",
      "\n",
      "May 20\t2\\\n",
      "\n",
      "Jun 20\t1\\\n",
      "\n",
      "Jul 20\t\t2\\\n",
      "\n",
      "Aug 20\t1 \\\n",
      "\n",
      "Sep 20 \t2\\\n",
      "\n",
      "Oct 20 \t1\\\n",
      "\n",
      "Nov 20\t2 \\\n",
      "\n",
      "Dec 20\t1\\\n",
      "\n",
      "}\n"
     ]
    }
   ],
   "source": [
    "file_path = '/Users/Avanti/Documents/Booktext.rtf'\n",
    "file_handle_for_reading = open(file=file_path, mode='r')\n",
    "for line in file_handle_for_reading:\n",
    "    print(line)"
   ]
  },
  {
   "cell_type": "code",
   "execution_count": 30,
   "metadata": {},
   "outputs": [],
   "source": [
    "#data = {'Jan 21', '1'}\n",
    "\n",
    "#with open(file = file_path, mode='w') as file_handling_for_writing:\n",
    "    #file_handle_for_writing.write(data)"
   ]
  },
  {
   "cell_type": "code",
   "execution_count": 8,
   "metadata": {},
   "outputs": [
    {
     "name": "stdout",
     "output_type": "stream",
     "text": [
      "Enter a number to check if it is a prime number: 1\n",
      "1 is not a prime number\n"
     ]
    }
   ],
   "source": [
    "num = int(input('Enter a number to check if it is a prime number: '))\n",
    "if num > 1: \n",
    "    for j in range(2, num/2):\n",
    "        if (num%j)==0:\n",
    "            print(num, 'is not a prime number')\n",
    "            break\n",
    "        \n",
    "    \n",
    "    print(num, 'is a prime number')\n",
    "        \n",
    "else:\n",
    "    print(num, 'is not a prime number')"
   ]
  },
  {
   "cell_type": "code",
   "execution_count": null,
   "metadata": {},
   "outputs": [],
   "source": []
  }
 ],
 "metadata": {
  "kernelspec": {
   "display_name": "Python 3",
   "language": "python",
   "name": "python3"
  },
  "language_info": {
   "codemirror_mode": {
    "name": "ipython",
    "version": 3
   },
   "file_extension": ".py",
   "mimetype": "text/x-python",
   "name": "python",
   "nbconvert_exporter": "python",
   "pygments_lexer": "ipython3",
   "version": "3.7.6"
  }
 },
 "nbformat": 4,
 "nbformat_minor": 4
}
